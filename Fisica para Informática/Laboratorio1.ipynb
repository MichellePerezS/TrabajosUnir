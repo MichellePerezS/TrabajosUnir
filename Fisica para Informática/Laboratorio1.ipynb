{
 "metadata": {
  "language_info": {
   "codemirror_mode": {
    "name": "ipython",
    "version": 3
   },
   "file_extension": ".py",
   "mimetype": "text/x-python",
   "name": "python",
   "nbconvert_exporter": "python",
   "pygments_lexer": "ipython3",
   "version": "3.7.4-final"
  },
  "orig_nbformat": 2,
  "kernelspec": {
   "name": "python3",
   "display_name": "Python 3"
  }
 },
 "nbformat": 4,
 "nbformat_minor": 2,
 "cells": [
  {
   "source": [
    "# El efecto fotoeléctrico\n",
    "\n",
    "## Breve concepto de la prática\n",
    "Cuando los metales son iluminados con luz de determinada frecuencia, los electrones pueden ser expulsados de la superficie del metal en un fenómeno conocido como el efecto fotoeléctrico. También, a este proceso suele llamársele fotoemisión, y a los electrones que son expulsados del metal, fotoelectrones. En términos de su comportamiento y sus propiedades, los fotoelectrones no son diferentes de otros electrones. El prefijo foto simplemente nos indica que los electrones han sido expulsados de la superficie de un metal por la luz incidente.\n",
    "\n",
    "![Ejemplo grafico](images/main.png \"Efecto fotoeléctrico\")\n",
    "\n",
    "## Objetivo\n",
    "- Realizar de manera computacional dos ejercicios que recrean dos experimentos sobre física moderna: el movimiento de partículas cargadas en campos magnéticos y el efecto fotoeléctrico\n",
    "\n",
    "## Integrantes \n",
    "- José Flores Arias\n",
    "- Michelle Pérez Sosa\n",
    "- Daniel Chiluisa Pinto\n",
    "\n",
    "\n",
    "## Desarrollo de la actividad\n",
    "## Demostraciones\n",
    "### Comprueba que e⋅V tiene unidades de energía, donde e es la carga del electrón.\n",
    "> Se empieza entendiendo que es el **Voltio** o diferencia de potencia\n",
    "$$V=\\frac{W}{Q}$$ \n",
    "> Significa el trabajo hecho por unidad de cargar. Energía por Columb o Jouls por Columb.\n",
    "> Imaginemos que la diferencia de potencial es decir el voltaje a traves de una bombilla te indica cuanta energia es dada por cada Columb de carga a mediad a que las cargas fluyen a través de la bombilla.\n",
    "\n",
    "$$Q\\cdot V = W$$\n",
    "\n",
    "> Significa el trabajo hecho o la energia tranferida.\n",
    "\n",
    "\n",
    "<img src=\"https://thermal-engineering.org/wp-content/uploads/2019/05/electronvolt-definition-min.png\" width=10% style=\"margin-left:40%\"/>\n",
    "\n",
    "> Imaginesmo que se tiene dos placas de metal conectadas a una fuente de poder una de las placas tiene 0V y la otra 1V como esta en la imagen. Y un electron en medio de las placas, recordemos que el electrón tiene carga negativa entonces se verá atraido a la placa con más carga positiva, es decir, 1V. \n",
    "> El electrón empieza acelerar a la placa de 1v, se obtiene una energía cinética que empuja desde cero a acelerar. \n",
    "> La energía tranferida es: $W= Q \\cdot V$ Q veces la carga del electrón, y la carga del electrón es $1.6 \\times 10^{-19}$ por un voltio.\n",
    "$$W=1.6 \\cdot 10^{-19} \\times 1V \\quad\\text{J}$$\n",
    "Es decir: $1eV = 1.6 \\cdot 10^{-19}\\quad\\text{J}$\n",
    "\n",
    "### Demuestre la equivalencia de la relación matemática de:\n",
    "$$\\frac{x - x_1}{x_2 - x_1} = \\frac{y - y_1}{y_2 - y_1} \\quad\\text{es equivalente a}\\quad y= m \\cdot x+b $$\n",
    "$$\\frac{x - x_1}{x_2 - x_1} = \\frac{y - y_1}{y_2 - y_1} $$\n",
    "$$ y = \\frac{(x - x_1)(y_2 - y_1)}{x_2 - x_1} + y_1$$\n",
    "$$ y = \\frac{x\\cdot y_2 - x\\cdot y_1 - x_1\\cdot y_2 + x_1\\cdot y_1 + y_1(x_2 - x)}{x_2 -x_1} $$\n",
    "$$ y = \\frac{(y_1-y_2)\\cdot x + x_1 \\cdot y_2 - x_2 \\cdot y_1}{x_1 - x_2} $$\n"
   ],
   "cell_type": "markdown",
   "metadata": {}
  },
  {
   "source": [
    "## Ejercicio 1\n",
    "### Relacion entre frecuencia y longitud de onda\n",
    "\n",
    "Para obtener la frecuencia de una honda es necesario conocer su velocidad de propagacion que para este caso es; la velocidad de la luz constante y su longitud de onda. Teniendo la relacion de: \n",
    "$$ v = 300.000.000  \\frac{m}{s} $$\n",
    "$$ f = \\frac{v}{\\lambda} $$\n",
    "\n",
    "## Tabla de datos\n",
    "\n",
    "### Tabla de datos del sodio\n",
    "\n",
    "|   Longitud de onda (nm)\t| Voltaje (v)  \t|\n",
    "|:-------------------------:|---------------|\n",
    "|   \t   395 nm           |  -0.80v      \t|\n",
    "|          415 nm          \t|  -0.60v      \t|\n",
    "|   \t   440 nm           |  -0.40v      \t|\n",
    "|   \t   473 nm           |  -0.15v      \t|\n",
    "\n",
    "\n",
    "### Tabla de datos del calcio\n",
    "\n",
    "|   Longitud de onda (nm)\t| Voltaje (v)  \t|\n",
    "|:-------------------------:|---------------|\n",
    "|   \t   385 nm           |  -0.10v      \t|\n",
    "|          369 nm          \t|  -0.30v      \t|\n",
    "|   \t   344 nm           |  -0.60v      \t|\n",
    "|   \t   320 nm           |  -0.90v      \t|\n",
    "\n",
    "### Tabla de datos\n",
    "\n",
    "| Color        | Longitud de onda (m)    | Frecuencia (v) | Voltaje (m) |\n",
    "|--------------|-------------------------|-----------------|-------------|\n",
    "| Verde        | $$ 5 \\cdot 10^{-7} $$   |        6        | -0.20       | \n",
    "| Azul         | $$ 4.5 \\cdot 10^{-7} $$ |      6.6667     | -0.50       |\n",
    "| Violeta      | $$ 4 \\cdot 10^{-7} $$   |       7.5       | -0.80       |\n",
    "| Ultravioleta | $$ 3 \\cdot 10^{-7} $$   |        10       | -1.80       |\n",
    "| Ultravioleta | $$ 2.5 \\cdot 10^{-7} $$ |        12       | -2.70       |"
   ],
   "cell_type": "markdown",
   "metadata": {}
  },
  {
   "source": [
    "### Grafico de los datos\n",
    "Para graficar los datos (longitud de onda vs voltaje) utilizamos el paquete de mathplotlib de python."
   ],
   "cell_type": "markdown",
   "metadata": {}
  },
  {
   "cell_type": "code",
   "execution_count": 1,
   "metadata": {},
   "outputs": [
    {
     "output_type": "error",
     "ename": "ModuleNotFoundError",
     "evalue": "No module named 'matplotlib'",
     "traceback": [
      "\u001b[1;31m---------------------------------------------------------------------------\u001b[0m",
      "\u001b[1;31mModuleNotFoundError\u001b[0m                       Traceback (most recent call last)",
      "\u001b[1;32m<ipython-input-1-c1fbfa8644de>\u001b[0m in \u001b[0;36m<module>\u001b[1;34m\u001b[0m\n\u001b[1;32m----> 1\u001b[1;33m \u001b[1;32mimport\u001b[0m \u001b[0mmatplotlib\u001b[0m\u001b[1;33m.\u001b[0m\u001b[0mpyplot\u001b[0m \u001b[1;32mas\u001b[0m \u001b[0mplt\u001b[0m\u001b[1;33m\u001b[0m\u001b[1;33m\u001b[0m\u001b[0m\n\u001b[0m\u001b[0;32m      2\u001b[0m \u001b[1;33m\u001b[0m\u001b[0m\n\u001b[0;32m      3\u001b[0m \u001b[1;31m# Defino los valores de longitud de onda en longitud_onda y\u001b[0m\u001b[1;33m\u001b[0m\u001b[1;33m\u001b[0m\u001b[1;33m\u001b[0m\u001b[0m\n\u001b[0;32m      4\u001b[0m \u001b[1;31m# los valores para los voltajes en diff_potential en vectores\u001b[0m\u001b[1;33m\u001b[0m\u001b[1;33m\u001b[0m\u001b[1;33m\u001b[0m\u001b[0m\n\u001b[0;32m      5\u001b[0m \u001b[0mlongitud_onda\u001b[0m \u001b[1;33m=\u001b[0m \u001b[1;33m[\u001b[0m\u001b[1;36m395\u001b[0m\u001b[1;33m,\u001b[0m \u001b[1;36m415\u001b[0m\u001b[1;33m,\u001b[0m \u001b[1;36m440\u001b[0m\u001b[1;33m,\u001b[0m \u001b[1;36m473\u001b[0m\u001b[1;33m]\u001b[0m\u001b[1;33m\u001b[0m\u001b[1;33m\u001b[0m\u001b[0m\n",
      "\u001b[1;31mModuleNotFoundError\u001b[0m: No module named 'matplotlib'"
     ]
    }
   ],
   "source": [
    "import matplotlib.pyplot as plt \n",
    "\n",
    "# Defino los valores de longitud de onda en longitud_onda y\n",
    "# los valores para los voltajes en diff_potential en vectores\n",
    "longitud_onda = [395, 415, 440, 473]\n",
    "diff_potential = [-0.8, -0.6, -0.4, -0.15]\n",
    "\n",
    "# Preparamos y mostramos el grafico en pyplot con los datos anteriores\n",
    "plt.xlabel(\"Longitud de onda [nm]\") \n",
    "plt.ylabel(\"Voltaje [V]\") \n",
    "plt.plot(longitud_onda, diff_potential, 'p')\n",
    "plt.show()"
   ]
  },
  {
   "cell_type": "code",
   "execution_count": null,
   "metadata": {},
   "outputs": [],
   "source": []
  }
 ]
}