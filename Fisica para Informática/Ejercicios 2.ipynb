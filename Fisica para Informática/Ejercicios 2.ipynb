{
  "cells": [
    {
      "cell_type": "markdown",
      "source": [
        "# Solucion de problema\n",
        "Un electrón con una capacidad de trabajo de 72090×10−19 J orbita de manera perpendicular a un campo magnético de 3250 G. ¿Cuál es el\n",
        "radio de la órbita? ¿Y su frecuencia y periodo angular? Resuelve el mismo ejercicio para un antineutrón.\n",
        "\n",
        "![Grafico1](https://3.bp.blogspot.com/-w1SdXEhjjdI/WD3bnL03SSI/AAAAAAAAAFc/wcCBPkGogXci62BB7b_HotRS3nyw1SuMgCLcB/s320/Imagen1.png)"
      ],
      "metadata": {
        "nteract": {
          "transient": {
            "deleting": false
          }
        }
      }
    },
    {
      "cell_type": "code",
      "source": [
        "## Solución desarrollada \n",
        "Lo primero que vamos a desarrollar es el concepto de Gauss, se trata de una unidad que mide la fuerza que emite un campo magnético. Si esta es mayor, más fuerte será el campo y a su vez hay más espacio desde el exterior a la superficie de campo.  \n",
        "\n",
        "  Ejemplos de uso de esta unidad de medida son, el campo magnético de la tierra es de 0,5 Gauss. Un imán pequeño tiene 100 Gauss y uno grande 15.000 Gauss.  \n",
        "  \n",
        "  Otra cuestión a tener en cuenta es la ___definición de julio___, a saber, la cantidad de trabajo que realiza una fuerza de un Newton en un metro de longitud situada en la misma dirección de dicha fuerza. Por tanto, la capacidad de trabajo define esa unidad de medida.  \n",
        "  \n",
        "   Además, debemos explicitar que ___la masa de un electrón es 9.1 x $10-31 Kg$___, se trata de una cantidad constante y que para nuestros cálculos también se da como valor conocido.   \n",
        "   \n",
        "   Finalmente explicar que cuando una ___partícula cargada se mueve a una velocidad V___ en un campo magnético normalmente se curva.   \n",
        "   \n",
        "   Con estas premisas paso a desarrollar el ejercicio planteado:   \n",
        "  \n",
        "___\n",
        "1. **Convertimos los GAUSS enunciados en el ejercicio a Teslas.**  \n",
        "  \n",
        "    1 T = 10000 G\n",
        "\n",
        "    1 G = 10-4 T\n",
        "    \n",
        "     \n",
        "    Los Teslas es la unidad empleada en el Sistema Internacional de Unidades (S.I.) y los Gauss en el Sistema Cegesimal (CGS)  \n",
        "\n",
        "\n",
        "     De ahí que en nuestro ejercicio el resultado es: 3250 G = 0,325 T  \n",
        "     \n",
        "\n",
        "\n",
        "\n",
        "\n",
        "\n"
      ],
      "outputs": [
        {
          "output_type": "error",
          "ename": "SyntaxError",
          "evalue": "invalid syntax (<ipython-input-1-363dd23a3aa2>, line 2)",
          "traceback": [
            "\u001b[1;36m  File \u001b[1;32m\"<ipython-input-1-363dd23a3aa2>\"\u001b[1;36m, line \u001b[1;32m2\u001b[0m\n\u001b[1;33m    Lo primero que vamos a desarrollar es el concepto de Gauss, se trata de una unidad que mide la fuerza que emite un campo magnético. Si esta es mayor, más fuerte será el campo y a su vez hay más espacio desde el exterior a la superficie de campo.\u001b[0m\n\u001b[1;37m       ^\u001b[0m\n\u001b[1;31mSyntaxError\u001b[0m\u001b[1;31m:\u001b[0m invalid syntax\n"
          ]
        }
      ],
      "execution_count": 1,
      "metadata": {
        "collapsed": true,
        "jupyter": {
          "source_hidden": false,
          "outputs_hidden": false
        },
        "nteract": {
          "transient": {
            "deleting": false
          }
        }
      }
    },
    {
      "cell_type": "markdown",
      "source": [
        "___\n",
        "2. Para realizar los cálculos hemos de obtener la energía cinética que se obtiene con la fórmula Ec = ½*mv2.\n",
        "\n",
        "De ahí despejamos la velocidad ya que el resto de datos los hemos ido obteniendo del problema.\n",
        "\n",
        "$$ V = \\frac{\\sqrt{2 \\dot 72090 \\cdot 10 \\cdot ^{19}}}{9.1 \\cdot 10^{-31} Kg}= 0.000000120074976577 = 120074976577 * 10-7 $$\n",
        "\n"
      ],
      "metadata": {
        "nteract": {
          "transient": {
            "deleting": false
          }
        }
      }
    },
    {
      "cell_type": "markdown",
      "source": [
        "___\n",
        "3. Según la ecuación de Lorentz para realizar el cálculo del radio debemos despejar este parámetro obteniendo la siguiente formulación matemática sobre el planteamiento de origen.\n",
        "\n",
        "R = m*v/q*B\n",
        "\n",
        "Siendo B la fuerza que ejerce el campo, en el caso de nuestro ejercicio es 0,325 T (hemos realizado la conversión con anterioridad).\n",
        "\n",
        "R = (9.1 x 10-31 Kg *0.000000120074976577)/1,6 * 10-19 * 0,325 T.\n",
        "\n",
        "R = 0.0000000000000000021013120900975\n",
        "\n",
        "R = 2.1013120900975 * 10-18\n"
      ],
      "metadata": {
        "nteract": {
          "transient": {
            "deleting": false
          }
        }
      }
    },
    {
      "cell_type": "markdown",
      "source": [
        "___\n",
        "4. Respecto a la frecuencia angular que es otro de los aspectos requeridos se obtiene con la fórmula: 2 * PI/T\n",
        "\n",
        " ***imagen***\n",
        "  \n",
        "  \n",
        "El tiempo necesario en la fórmula se consigue con la formulación matemática v = s/t, de la que se deduce que t = s/v (siendo s el espacio recorrido). Por lo tanto, t = 2*pi*radio/velocidad.\n",
        "\n",
        "t = 2 * 3.1415926*2.1013120900975 * 10-18/120074976577 * 10-7\n",
        "\n",
        "t = 0.00000000000000000000109955741\n",
        "\n",
        "t = 109955741 * 10-21\n",
        "\n",
        "Este cálculo nos aporta el tiempo que tarda el electrón en dar una vuelta.\n",
        "\n",
        "Una vez encontrado el valor del tiempo se puede calcular el resultado de la frecuencia angular con la formula comentada al comienzo del epígrafe y conseguir el siguiente resultado:\n",
        "\n",
        "W = 2 * pi/T\n",
        "\n",
        "W = 2 * 3.141592/109955741 * 10-21\n",
        "\n",
        "W = 5714285714285714285714.28571428571428571428571428571429\n",
        "\n",
        "El otro aspecto que plantea el enunciado es para un antineutrón. Éste no orbitaría porque tiene carga 0.\n"
      ],
      "metadata": {
        "nteract": {
          "transient": {
            "deleting": false
          }
        }
      }
    },
    {
      "cell_type": "code",
      "source": [
        "function Plotly(data, layout, $$) {\n",
        "    $$ = $$ || global.$$;\n",
        "    $$.mime({ \"application/vnd.plotly.v1+json\": { data: data, layout: layout } });\n",
        "}\n"
      ],
      "outputs": [],
      "execution_count": null,
      "metadata": {
        "collapsed": true,
        "jupyter": {
          "source_hidden": false,
          "outputs_hidden": false
        },
        "nteract": {
          "transient": {
            "deleting": false
          }
        }
      }
    },
    {
      "cell_type": "code",
      "source": [
        "const rand = () => Math.random();\n",
        "var x = [1, 2, 3, 4, 5];\n",
        "const new_data = (trace) => Object.assign(trace, {y: x.map(rand)});\n",
        "\n",
        "// add random data to three line traces\n",
        "var data = [\n",
        "\t{mode:'lines', line: {color: \"#b55400\"}},\n",
        "\t{mode: 'lines', line: {color: \"#393e46\"}},\n",
        "\t{mode: 'lines', line: {color: \"#222831\"}}\n",
        "].map(new_data);\n",
        "\n",
        "var layout = {\n",
        "\ttitle: 'User Zoom Persists<br>When uirevision Unchanged',\n",
        "\tuirevision:'true',\n",
        "\txaxis: {autorange: true},\n",
        "\tyaxis: {autorange: true}\n",
        "};\n",
        "\n",
        "Plotly.react('myDiv', data, layout);\n",
        "\n",
        "var myPlot = document.getElementById('myDiv');\n",
        "\n",
        "var cnt = 0;\n",
        "var interval = setInterval(function() {\n",
        "\tdata = data.map(new_data);\n",
        "\n",
        "\t// user interaction will mutate layout and set autorange to false\n",
        "\t// so we need to reset it to true\n",
        "\tlayout.xaxis.autorange = true;\n",
        "\tlayout.yaxis.autorange = true;\n",
        "\n",
        "\t// not changing uirevision will ensure that user interactions are unchanged\n",
        "\t// layout.uirevision = rand();\n",
        "\n",
        "\tPlotly.react('myDiv', data, layout);\n",
        "\tif(cnt === 100) clearInterval(interval);\n",
        "}, 2500);"
      ],
      "outputs": [],
      "execution_count": null,
      "metadata": {
        "collapsed": true,
        "jupyter": {
          "source_hidden": false,
          "outputs_hidden": false
        },
        "nteract": {
          "transient": {
            "deleting": false
          }
        }
      }
    },
    {
      "cell_type": "markdown",
      "source": [
        "<html>\n",
        "<head>\n",
        "  <!-- Plotly.js -->\n",
        "  <script src=\"https://cdn.plot.ly/plotly-latest.min.js\"></script>\n",
        "</head>\n",
        "<body>\n",
        "<!-- Plotly chart will be drawn inside this DIV -->\n",
        "<div id=\"graphDiv\"></div>\n",
        "  <script>\n",
        "  /* JAVASCRIPT CODE GOES HERE */\n",
        "  </script>\n",
        "</body>\n",
        "</html>\n"
      ],
      "metadata": {
        "nteract": {
          "transient": {
            "deleting": false
          }
        }
      }
    },
    {
      "cell_type": "markdown",
      "source": [
        "const rand = () => Math.random();\n",
        "var x = [1, 2, 3, 4, 5];\n",
        "const new_data = (trace) => Object.assign(trace, {y: x.map(rand)});\n",
        "\n",
        "// add random data to three line traces\n",
        "var data = [\n",
        "  {mode:'lines', line: {color: \"#b55400\"}}, \n",
        "  {mode: 'lines', line: {color: \"#393e46\"}},\n",
        "  {mode: 'lines', line: {color: \"#222831\"}}\n",
        "].map(new_data);\n",
        "\n",
        "var layout = {\n",
        "  title: 'User Zoom Persists<br>When uirevision Unchanged',\n",
        "  uirevision:'true',\n",
        "  xaxis: {autorange: true},\n",
        "  yaxis: {autorange: true}\n",
        "};\n",
        "\n",
        "Plotly.react(graphDiv, data, layout);\n",
        "\n",
        "var myPlot = document.getElementById('graphDiv');\n",
        "\n",
        "var cnt = 0;\n",
        "var interval = setInterval(function() {\n",
        "  data = data.map(new_data);\n",
        "\n",
        "  // user interation will mutate layout and set autorange to false\n",
        "  // so we need to reset it to true\n",
        "  layout.xaxis.autorange = true;\n",
        "  layout.yaxis.autorange = true;\n",
        "  \n",
        "  // not changing uirevision will ensure that user interactions are unchanged\n",
        "  // layout.uirevision = rand();\n",
        "  \n",
        "  Plotly.react(graphDiv, data, layout);\n",
        "  if(cnt === 100) clearInterval(interval);\n",
        "}, 2500);\n",
        "\n",
        "\n",
        "\n",
        "Resources"
      ],
      "metadata": {
        "nteract": {
          "transient": {
            "deleting": false
          }
        }
      }
    }
  ],
  "metadata": {
    "kernel_info": {
      "name": "node_nteract"
    },
    "language_info": {
      "name": "javascript",
      "version": "3.8.5-final",
      "mimetype": "application/javascript",
      "file_extension": ".js"
    },
    "kernelspec": {
      "name": "python3",
      "display_name": "Python 3.8.5 64-bit",
      "metadata": {
        "interpreter": {
          "hash": "2db524e06e9f5f4ffedc911c917cb75e12dbc923643829bf417064a77eb14d37"
        }
      }
    },
    "nteract": {
      "version": "0.26.0"
    }
  },
  "nbformat": 4,
  "nbformat_minor": 0
}